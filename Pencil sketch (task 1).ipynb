{
 "cells": [
  {
   "cell_type": "code",
   "execution_count": null,
   "id": "40e8a3c2",
   "metadata": {},
   "outputs": [],
   "source": [
    "import cv2\n",
    "\n",
    "# Read \n",
    "img_rgb = cv2.imread('cartoon.jpg')\n",
    "\n",
    "# Converting\n",
    "img_gray = cv2.cvtColor(img_rgb, cv2.COLOR_BGR2GRAY)\n",
    "\n",
    "# Inverting\n",
    "img_negative = 255 - img_gray\n",
    "\n",
    "# Apply Gaussian blur to the inverted image\n",
    "img_negative_blurred = cv2.GaussianBlur(img_negative, (0, 0), sigmaX=10, sigmaY=10)\n",
    "\n",
    "# negative image\n",
    "img_negative_blurred_inverted = 255 - img_negative_blurred\n",
    "\n",
    "# Create a sketch by dividing the grayscale image by the inverted blurred negative image\n",
    "pencil_sketch = cv2.divide(img_gray, img_negative_blurred_inverted, scale=256.0)\n",
    "\n",
    "# Save the pencil sketch as a file\n",
    "cv2.imwrite('pencil_sketch_cartoon.jpg', pencil_sketch)\n",
    "\n",
    "# Display the pencil sketch\n",
    "cv2.imshow('Pencil Sketch', pencil_sketch)\n",
    "cv2.waitKey(0)\n",
    "\n",
    "# Close all OpenCV windows\n",
    "cv2.destroyAllWindows()\n"
   ]
  }
 ],
 "metadata": {
  "kernelspec": {
   "display_name": "Python 3 (ipykernel)",
   "language": "python",
   "name": "python3"
  },
  "language_info": {
   "codemirror_mode": {
    "name": "ipython",
    "version": 3
   },
   "file_extension": ".py",
   "mimetype": "text/x-python",
   "name": "python",
   "nbconvert_exporter": "python",
   "pygments_lexer": "ipython3",
   "version": "3.11.4"
  }
 },
 "nbformat": 4,
 "nbformat_minor": 5
}
